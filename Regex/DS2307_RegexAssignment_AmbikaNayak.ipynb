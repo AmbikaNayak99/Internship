{
 "cells": [
  {
   "cell_type": "code",
   "execution_count": 2,
   "id": "4e5dd060",
   "metadata": {},
   "outputs": [
    {
     "name": "stdout",
     "output_type": "stream",
     "text": [
      "enter a text: python exercises, PHP exercises.\n",
      "python:exercises::PHP:exercises:\n"
     ]
    }
   ],
   "source": [
    "#Question 1- Write a Python program to replace all occurrences of a space, comma, or dot with a colon.\n",
    "\n",
    "import re\n",
    "expression = input(\"enter a text: \")\n",
    "print(re.sub(\"[ ,.]\", \":\", expression))"
   ]
  },
  {
   "cell_type": "code",
   "execution_count": 5,
   "id": "eca949c6",
   "metadata": {},
   "outputs": [
    {
     "name": "stdout",
     "output_type": "stream",
     "text": [
      "enter a text: the following is ant bat dog animals elephant lion list alot\n",
      "['ant', 'at', 'animals', 'elephant', 'alot']\n"
     ]
    }
   ],
   "source": [
    "#Question 2-  Write a Python program to find all words starting with 'a' or 'e' in a given string.\n",
    "\n",
    "expression = input(\"enter a text: \")\n",
    "list = re.findall(\"[ae]\\w+\", expression)\n",
    "print(list)"
   ]
  },
  {
   "cell_type": "code",
   "execution_count": 7,
   "id": "f979c536",
   "metadata": {},
   "outputs": [
    {
     "name": "stdout",
     "output_type": "stream",
     "text": [
      "this is a match!\n"
     ]
    }
   ],
   "source": [
    "#Question 11- Write a Python program to match a string that contains only upper and lowercase letters, numbers, and underscores.\n",
    "\n",
    "def match(string):\n",
    "    pattern = '^[a-zA-Z0-9_]*$'\n",
    "    if re.search(pattern, string):\n",
    "        return (\"this is a match!\")\n",
    "    else:\n",
    "        return(\"Not a match\")\n",
    "print(match(\"Python_Programing_Language_12345\"))"
   ]
  },
  {
   "cell_type": "code",
   "execution_count": 17,
   "id": "1bc034a3",
   "metadata": {},
   "outputs": [
    {
     "name": "stdout",
     "output_type": "stream",
     "text": [
      "True\n"
     ]
    }
   ],
   "source": [
    "#Question 12- Write a Python program where a string will start with a specific number. \n",
    "\n",
    "def match(string):\n",
    "    text = re.compile(r\"^2\")\n",
    "    if text.match(string):\n",
    "        return True\n",
    "    else:\n",
    "        return False\n",
    "print(match(\"28645\"))"
   ]
  },
  {
   "cell_type": "code",
   "execution_count": 25,
   "id": "084d9a35",
   "metadata": {},
   "outputs": [
    {
     "name": "stdout",
     "output_type": "stream",
     "text": [
      "enter a ip address001.020.300.45560\n"
     ]
    },
    {
     "data": {
      "text/plain": [
       "'1.20.300.45560'"
      ]
     },
     "execution_count": 25,
     "metadata": {},
     "output_type": "execute_result"
    }
   ],
   "source": [
    "#Question 13- Write a Python program to remove leading zeros from an IP address\n",
    "\n",
    "def remove_zero(ip_1):\n",
    "    ip_2 = \".\".join([str(int(i)) for i in ip_1.split(\".\")])\n",
    "    return ip_2\n",
    "ip_1 = input(\"enter a ip address\")\n",
    "remove_zero(ip_1)"
   ]
  },
  {
   "cell_type": "code",
   "execution_count": 30,
   "id": "dff79f6b",
   "metadata": {},
   "outputs": [
    {
     "name": "stdout",
     "output_type": "stream",
     "text": [
      "example\n",
      "hr@fliprobo\n",
      "github\n",
      "Hello\n",
      "Data\n"
     ]
    }
   ],
   "source": [
    "#Question 6- Write a python program to remove the parenthesis area from the text stored in the text file using Regular Expression.\n",
    "\n",
    "text = [\"example (.com)\", \"hr@fliprobo (.com)\", \"github (.com)\", \"Hello (Data Science World)\", \"Data (Scientist)\"]\n",
    "for i in text:\n",
    "    print(re.sub(r\" ?\\([^)]+\\)\", \"\", i))"
   ]
  },
  {
   "cell_type": "code",
   "execution_count": null,
   "id": "c90bebcc",
   "metadata": {},
   "outputs": [],
   "source": []
  }
 ],
 "metadata": {
  "kernelspec": {
   "display_name": "Python 3 (ipykernel)",
   "language": "python",
   "name": "python3"
  },
  "language_info": {
   "codemirror_mode": {
    "name": "ipython",
    "version": 3
   },
   "file_extension": ".py",
   "mimetype": "text/x-python",
   "name": "python",
   "nbconvert_exporter": "python",
   "pygments_lexer": "ipython3",
   "version": "3.8.13"
  }
 },
 "nbformat": 4,
 "nbformat_minor": 5
}
